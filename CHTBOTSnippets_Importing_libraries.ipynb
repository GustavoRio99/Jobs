{
  "cells": [
    {
      "cell_type": "markdown",
      "metadata": {
        "id": "view-in-github",
        "colab_type": "text"
      },
      "source": [
        "<a href=\"https://colab.research.google.com/github/GustavoRio99/Jobs/blob/main/CHTBOTSnippets_Importing_libraries.ipynb\" target=\"_parent\"><img src=\"https://colab.research.google.com/assets/colab-badge.svg\" alt=\"Open In Colab\"/></a>"
      ]
    },
    {
      "cell_type": "code",
      "source": [
        "from chatterbot import ChatBot \n",
        "from chatterbot.trainers import ListTrainer\n",
        "from spacy.cli import download\n",
        "\n",
        "download(\"en_core_web_sm\")\n",
        "\n",
        "class ENGSM:\n",
        "  ISO_639_1 = 'en_core_web_sm'\n",
        "\n",
        "chatbot= ChatBot(\"Raffinatinho\", tagger_language=ENGSM)\n"
      ],
      "metadata": {
        "colab": {
          "base_uri": "https://localhost:8080/"
        },
        "id": "LkM3uMWe-rf-",
        "outputId": "bb7ec861-a07f-4377-91e2-3a4e07d9e675"
      },
      "execution_count": 18,
      "outputs": [
        {
          "output_type": "stream",
          "name": "stdout",
          "text": [
            "\u001b[38;5;2m✔ Download and installation successful\u001b[0m\n",
            "You can now load the package via spacy.load('en_core_web_sm')\n"
          ]
        }
      ]
    },
    {
      "cell_type": "markdown",
      "source": [],
      "metadata": {
        "id": "jFc0_7pAIPJt"
      }
    },
    {
      "cell_type": "code",
      "source": [
        "chatbot= ChatBot(\"Raffinatinho\", tagger_language=ENGSM)\n",
        "\n",
        "conversa = [\n",
        "    \"Oi\",\n",
        "    \"Oi, como posso te ajudar?\",\n",
        "    \"Quero colo.\",\n",
        "    \"Como você quer?\",\n",
        "    \"apertadinho.\",\n",
        "    \"Venha aqui\",\n",
        "\n",
        "]\n",
        "trainer = ListTrainer(chatbot)\n",
        "trainer.train(conversa)"
      ],
      "metadata": {
        "colab": {
          "base_uri": "https://localhost:8080/"
        },
        "id": "Hx907_rQATyE",
        "outputId": "c6eba715-cb45-4084-f5bf-998963587975"
      },
      "execution_count": 52,
      "outputs": [
        {
          "output_type": "stream",
          "name": "stdout",
          "text": [
            "List Trainer: [####################] 100%\n"
          ]
        }
      ]
    },
    {
      "cell_type": "code",
      "source": [
        "while True:\n",
        "  menssagem=input(\"Fale com o chatbot: \")\n",
        "  if menssagem == \"para\":\n",
        "    break\n",
        "  resposta=chatbot.get_response(input(menssagem))\n",
        "  print(resposta)"
      ],
      "metadata": {
        "colab": {
          "base_uri": "https://localhost:8080/"
        },
        "id": "MQgzqmpIAavF",
        "outputId": "153c65c3-22fe-4d6c-83f3-48d2e1c07180"
      },
      "execution_count": 55,
      "outputs": [
        {
          "name": "stdout",
          "output_type": "stream",
          "text": [
            "Fale com o chatbot: Oi\n",
            "Oiquero colo\n",
            "Como você quer?\n",
            "Fale com o chatbot: juntinho\n",
            "juntinhoapertadinho\n",
            "Venha aqui\n",
            "Fale com o chatbot: para\n"
          ]
        }
      ]
    },
    {
      "cell_type": "code",
      "source": [
        "chatbot.storage.drop()"
      ],
      "metadata": {
        "id": "Eu-gLQccE3YT"
      },
      "execution_count": 51,
      "outputs": []
    }
  ],
  "metadata": {
    "colab": {
      "name": "Snippets: Importing libraries",
      "provenance": [],
      "include_colab_link": true
    },
    "kernelspec": {
      "display_name": "Python 3",
      "name": "python3"
    }
  },
  "nbformat": 4,
  "nbformat_minor": 0
}